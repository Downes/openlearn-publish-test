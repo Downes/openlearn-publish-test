{
 "cells": [
  {
   "cell_type": "markdown",
   "metadata": {},
   "source": [
    "# 2  What is art?"
   ]
  },
  {
   "cell_type": "markdown",
   "metadata": {},
   "source": [
    "The question of whether or not graffiti can be considered as a form of art relates to wider debates around the question ‘What is art?’. This question has been the subject of hot debate by art historians for many years and is notoriously difficult to answer. However, in the next activity, you will take on the challenge and attempt to answer the question yourself."
   ]
  },
  {
   "cell_type": "markdown",
   "metadata": {},
   "source": [
    "### Activity 1  What is art?\n",
    "__Timing: Allow about 20 minutes__"
   ]
  },
  {
   "cell_type": "markdown",
   "metadata": {},
   "source": [
    "#### Question\n",
    "\n",
    "1. Make a list of no more than three things that you consider to be ‘art’.\n",
    "\n",
    "2. Make a list of any common characteristics that these ‘artworks’ have. (For example, are they already exhibited in galleries, do they display technical skill, do they have the power to move you emotionally?)\n",
    "\n",
    "3. Try to write a one-sentence answer to the question ‘What is art?’\n",
    "\n"
   ]
  },
  {
   "cell_type": "markdown",
   "metadata": {},
   "source": [
    "#### Discussion\n",
    "\n",
    "Did you find this activity difficult? If so, you are in good company as thus far no universally agreed answer to the question ‘What is art?’ has been reached. In fact, there as many different definitions as there are people providing those definitions. Some of the characteristics that are often identified as making something ‘art’ include:\n",
    "\n",
    "* being displayed in galleries\n",
    "\n",
    "* being produced by a recognised artist\n",
    "\n",
    "* showing evidence of technical skill\n",
    "\n",
    "* expressing an emotion or a point of view\n",
    "\n",
    "* being the result of a creative process by an artist\n",
    "\n",
    "* being unique\n",
    "\n",
    "* being labelled as ‘art’ by the person who created it.\n",
    "\n",
    "You may have mentioned one or more of these characteristics in your own answer to question (b).\n",
    "\n",
    "The *Collins Paperback English Dictionary* (1999) defines art as: ‘The creation of works of beauty or other special significance’ and ‘Human creativity as distinguished from nature’. How far does this reflect your own views? \n"
   ]
  },
  {
   "cell_type": "markdown",
   "metadata": {},
   "source": [
    "Answers to the question ‘What is art?’ are not straightforward because images, objects or concepts can have very different effects on different people in different contexts and can be interpreted in many different ways. The question ‘What is art?’ is not only relevant in relation to decisions of what to formally exhibit in art galleries and museums, but can also be asked in the context of less formal, everyday settings. Coming back to the example of graffiti: let us now consider different arguments for and against the perception of graffiti as a form of art or as vandalism. \n"
   ]
  }
 ],
 "metadata": {
  "jupytext": {
   "cell_metadata_filter": "-all",
   "main_language": "python",
   "notebook_metadata_filter": "-all",
   "text_representation": {
    "extension": ".md",
    "format_name": "markdown"
   }
  }
 },
 "nbformat": 4,
 "nbformat_minor": 4
}
